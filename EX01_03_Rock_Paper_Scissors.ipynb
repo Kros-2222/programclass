{
  "nbformat": 4,
  "nbformat_minor": 0,
  "metadata": {
    "colab": {
      "provenance": [],
      "authorship_tag": "ABX9TyMhggPBmG0lE50kekqWWFpS",
      "include_colab_link": true
    },
    "kernelspec": {
      "name": "python3",
      "display_name": "Python 3"
    },
    "language_info": {
      "name": "python"
    }
  },
  "cells": [
    {
      "cell_type": "markdown",
      "metadata": {
        "id": "view-in-github",
        "colab_type": "text"
      },
      "source": [
        "<a href=\"https://colab.research.google.com/github/Kros-2222/programclass/blob/main/EX01_03_Rock_Paper_Scissors.ipynb\" target=\"_parent\"><img src=\"https://colab.research.google.com/assets/colab-badge.svg\" alt=\"Open In Colab\"/></a>"
      ]
    },
    {
      "cell_type": "code",
      "execution_count": null,
      "metadata": {
        "colab": {
          "base_uri": "https://localhost:8080/"
        },
        "id": "KQTDlFnCMMoV",
        "outputId": "37fd717b-7506-4500-b48e-5d8b3ec25d36"
      },
      "outputs": [
        {
          "output_type": "stream",
          "name": "stdout",
          "text": [
            "0 = 石頭, 2 = 剪刀, 5 = 布 0\n",
            "5\n",
            "You lost\n"
          ]
        }
      ],
      "source": [
        "import random\n",
        "player = int(input('0 = 石頭, 2 = 剪刀, 5 = 布 '))\n",
        "cmp = random.choice([0,2,5])\n",
        "print(cmp)\n",
        "if player == cmp:\n",
        "  print('Draw')\n",
        "elif (player == 2 and cmp == 0):\n",
        "  print('You lost')\n",
        "elif (player == 5 and cmp == 2):\n",
        "  print('You lost')\n",
        "elif (player == 0 and cmp == 5):\n",
        "  print('You lost')\n",
        "else:\n",
        "  print('You win')"
      ]
    }
  ]
}