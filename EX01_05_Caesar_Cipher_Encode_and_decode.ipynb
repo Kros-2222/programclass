{
  "nbformat": 4,
  "nbformat_minor": 0,
  "metadata": {
    "colab": {
      "provenance": [],
      "authorship_tag": "ABX9TyPh5xMDppk3BIfFVcL2bFki",
      "include_colab_link": true
    },
    "kernelspec": {
      "name": "python3",
      "display_name": "Python 3"
    },
    "language_info": {
      "name": "python"
    }
  },
  "cells": [
    {
      "cell_type": "markdown",
      "metadata": {
        "id": "view-in-github",
        "colab_type": "text"
      },
      "source": [
        "<a href=\"https://colab.research.google.com/github/Kros-2222/programclass/blob/main/EX01_05_Caesar_Cipher_Encode_and_decode.ipynb\" target=\"_parent\"><img src=\"https://colab.research.google.com/assets/colab-badge.svg\" alt=\"Open In Colab\"/></a>"
      ]
    },
    {
      "cell_type": "code",
      "execution_count": 15,
      "metadata": {
        "id": "SV2RMY_6vj-0",
        "colab": {
          "base_uri": "https://localhost:8080/"
        },
        "outputId": "c5ccee97-3a09-4f30-ddd7-7d80e95ff632"
      },
      "outputs": [
        {
          "output_type": "stream",
          "name": "stdout",
          "text": [
            "請輸入加解密及金鑰(d解密,e加密):e26\n",
            "請輸入欲加解密的文字abcXYZ\n",
            "abcXYZ"
          ]
        }
      ],
      "source": [
        "while True :\n",
        "  request = input('請輸入加解密及金鑰(d解密,e加密):')\n",
        "  try :\n",
        "    front = request[0]\n",
        "    key = int(request[1:])\n",
        "  except :\n",
        "    print('輸入錯誤')\n",
        "    continue\n",
        "  else:\n",
        "    if front != 'd' and front != 'e' :\n",
        "      print('輸入錯誤')\n",
        "      continue\n",
        "    break\n",
        "key = key % 26\n",
        "password = input('請輸入欲加解密的文字')\n",
        "if front == 'd' :\n",
        "  for i in password :\n",
        "    if ord('A')<= ord(i) <= ord('Z'):\n",
        "      if ord(i) - key < ord('A') :\n",
        "        print(chr(ord(i) - key + 26),end='')\n",
        "      else :\n",
        "        print(chr(ord(i) - key),end='')\n",
        "    else :\n",
        "      if ord(i) - key < ord('a') :\n",
        "        print(chr(ord(i) - key + 26),end='')\n",
        "      else :\n",
        "        print(chr(ord(i) - key),end='')\n",
        "else :\n",
        "  for i in password :\n",
        "    if ord('A')<= ord(i) <= ord('Z'):\n",
        "      if ord(i) + key > ord('Z') :\n",
        "        print(chr(ord(i) + key - 26),end='')\n",
        "      else :\n",
        "        print(chr(ord(i) + key),end='')\n",
        "    else :\n",
        "      if ord(i) + key > ord('z') :\n",
        "        print(chr(ord(i) + key - 26),end='')\n",
        "      else :\n",
        "        print(chr(ord(i) + key),end='')"
      ]
    }
  ]
}