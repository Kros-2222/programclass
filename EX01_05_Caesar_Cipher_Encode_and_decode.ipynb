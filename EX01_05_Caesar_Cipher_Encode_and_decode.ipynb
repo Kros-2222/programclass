{
  "nbformat": 4,
  "nbformat_minor": 0,
  "metadata": {
    "colab": {
      "provenance": [],
      "authorship_tag": "ABX9TyNyXW+7M3UdWG82ssOXF+57",
      "include_colab_link": true
    },
    "kernelspec": {
      "name": "python3",
      "display_name": "Python 3"
    },
    "language_info": {
      "name": "python"
    }
  },
  "cells": [
    {
      "cell_type": "markdown",
      "metadata": {
        "id": "view-in-github",
        "colab_type": "text"
      },
      "source": [
        "<a href=\"https://colab.research.google.com/github/Kros-2222/programclass/blob/main/EX01_05_Caesar_Cipher_Encode_and_decode.ipynb\" target=\"_parent\"><img src=\"https://colab.research.google.com/assets/colab-badge.svg\" alt=\"Open In Colab\"/></a>"
      ]
    },
    {
      "cell_type": "code",
      "execution_count": 16,
      "metadata": {
        "id": "SV2RMY_6vj-0",
        "colab": {
          "base_uri": "https://localhost:8080/"
        },
        "outputId": "7617b9e8-a2de-41e9-9028-5058ff01f23e"
      },
      "outputs": [
        {
          "output_type": "stream",
          "name": "stdout",
          "text": [
            "請輸入加解密及金鑰(d解密,e加密):e2\n",
            "請輸入欲加解密的文字aABb123\n",
            "cCDd345"
          ]
        }
      ],
      "source": [
        "while True :\n",
        "  request = input('請輸入加解密及金鑰(d解密,e加密):')\n",
        "  try :\n",
        "    front = request[0]\n",
        "    key = int(request[1:])\n",
        "  except :\n",
        "    print('輸入錯誤')\n",
        "    continue\n",
        "  else:\n",
        "    if front != 'd' and front != 'e' :\n",
        "      print('輸入錯誤')\n",
        "      continue\n",
        "    break\n",
        "key = key % 26\n",
        "password = input('請輸入欲加解密的文字')\n",
        "if front == 'd' :\n",
        "  for i in password :\n",
        "    if ord('A')<= ord(i) <= ord('Z'):\n",
        "      if ord(i) - key < ord('A') :\n",
        "        print(chr(ord(i) - key + 26),end='')\n",
        "      else :\n",
        "        print(chr(ord(i) - key),end='')\n",
        "    elif ord('a')<= ord(i) <= ord('z'):\n",
        "      if ord(i) - key < ord('a') :\n",
        "        print(chr(ord(i) - key + 26),end='')\n",
        "      else :\n",
        "        print(chr(ord(i) - key),end='')\n",
        "    else :\n",
        "        print(chr(ord(i) - key),end='')\n",
        "else :\n",
        "  for i in password :\n",
        "    if ord('A')<= ord(i) <= ord('Z'):\n",
        "      if ord(i) + key > ord('Z') :\n",
        "        print(chr(ord(i) + key - 26),end='')\n",
        "      else :\n",
        "        print(chr(ord(i) + key),end='')\n",
        "    elif ord('a')<= ord(i) <= ord('z'):\n",
        "      if ord(i) + key > ord('z') :\n",
        "        print(chr(ord(i) + key - 26),end='')\n",
        "      else :\n",
        "        print(chr(ord(i) + key),end='')\n",
        "    else :\n",
        "        print(chr(ord(i) + key),end='')"
      ]
    },
    {
      "cell_type": "code",
      "source": [
        "while True:\n",
        "  request = input('請輸入加解密及金鑰(d解密,e加密):')\n",
        "  try:\n",
        "    mode = request[0]\n",
        "    key = int(request[1:])\n",
        "  except:\n",
        "    print('輸入錯誤')\n",
        "    continue\n",
        "  if mode not in ('d', 'e'):\n",
        "    print('輸入錯誤')\n",
        "    continue\n",
        "  break\n",
        "key = key % 26\n",
        "password = input('請輸入欲加解密的文字')\n",
        "if mode == 'd':\n",
        "  key = -key\n",
        "for char in password:\n",
        "  if char.isalpha():  # 只處理英文字母\n",
        "    base = ord('A') if char.isupper() else ord('a')\n",
        "    new_char = chr((ord(char) - base + key) % 26 + base)\n",
        "    print(new_char,end='')\n",
        "  else:\n",
        "    print(char,end='')  # 保留非字母原樣\n"
      ],
      "metadata": {
        "colab": {
          "base_uri": "https://localhost:8080/"
        },
        "id": "vrU26UvNJZ0q",
        "outputId": "e4b2de73-8a72-4b76-ab7c-642103d17ee1"
      },
      "execution_count": 18,
      "outputs": [
        {
          "output_type": "stream",
          "name": "stdout",
          "text": [
            "請輸入加解密及金鑰(d解密,e加密):e2\n",
            "請輸入欲加解密的文字AZza12\\\n",
            "CBbc12\\"
          ]
        }
      ]
    }
  ]
}