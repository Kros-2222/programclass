{
  "nbformat": 4,
  "nbformat_minor": 0,
  "metadata": {
    "colab": {
      "provenance": [],
      "authorship_tag": "ABX9TyOYH8or1u7udibRr1Tlhru6",
      "include_colab_link": true
    },
    "kernelspec": {
      "name": "python3",
      "display_name": "Python 3"
    },
    "language_info": {
      "name": "python"
    }
  },
  "cells": [
    {
      "cell_type": "markdown",
      "metadata": {
        "id": "view-in-github",
        "colab_type": "text"
      },
      "source": [
        "<a href=\"https://colab.research.google.com/github/Kros-2222/programclass/blob/main/EX01_06_%E7%B0%A1%E6%98%93%E8%B3%BC%E7%89%A9%E8%BB%8A.ipynb\" target=\"_parent\"><img src=\"https://colab.research.google.com/assets/colab-badge.svg\" alt=\"Open In Colab\"/></a>"
      ]
    },
    {
      "cell_type": "code",
      "source": [
        "from IPython.display import clear_output\n",
        "shopping_cart = []\n",
        "products = { \"apple\": 25, \"banana\": 12, \"cherry\": 30 }\n",
        "while True:\n",
        "  clear_output()\n",
        "  print('商品籃: ',', '.join([f'{items}/{price}'for items, price in products.items()]))\n",
        "  print('購物車: ',', '.join(shopping_cart))\n",
        "  print('功能列: ','1.新增商品 2.移除商品 3.結帳 4.離開')\n",
        "  act = input('請選擇功能: ')\n",
        "  if act[0] == '1':\n",
        "    shopping_cart.append(act[1:])\n",
        "  elif act[0] == '2':\n",
        "    shopping_cart.remove(act[1:])\n",
        "  elif act[0] == '3':\n",
        "    sum = 0\n",
        "    for pd in shopping_cart:\n",
        "      sum += products[pd]\n",
        "    print(f'結帳金額，{sum}')\n",
        "    break\n",
        "  elif act[0] == '4':\n",
        "    print('結束')\n",
        "    break\n",
        "  else:\n",
        "    print('輸入錯誤')\n",
        ""
      ],
      "metadata": {
        "id": "d-Bz4neGS0Jb",
        "colab": {
          "base_uri": "https://localhost:8080/"
        },
        "outputId": "0d84df11-de6b-42d7-d602-743478362109"
      },
      "execution_count": 1,
      "outputs": [
        {
          "output_type": "stream",
          "name": "stdout",
          "text": [
            "商品籃:  apple/25, banana/12, cherry/30\n",
            "購物車:  apple, cherry\n",
            "功能列:  1.新增商品 2.移除商品 3.結帳 4.離開\n",
            "請選擇功能: 3\n",
            "結帳金額，55\n"
          ]
        }
      ]
    }
  ]
}