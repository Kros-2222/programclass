{
  "nbformat": 4,
  "nbformat_minor": 0,
  "metadata": {
    "colab": {
      "provenance": [],
      "authorship_tag": "ABX9TyNKaTNH6y5gcUqD/Nsdi2aW",
      "include_colab_link": true
    },
    "kernelspec": {
      "name": "python3",
      "display_name": "Python 3"
    },
    "language_info": {
      "name": "python"
    }
  },
  "cells": [
    {
      "cell_type": "markdown",
      "metadata": {
        "id": "view-in-github",
        "colab_type": "text"
      },
      "source": [
        "<a href=\"https://colab.research.google.com/github/Kros-2222/programclass/blob/main/EX01_02_BMI_%E8%A8%88%E7%AE%97.ipynb\" target=\"_parent\"><img src=\"https://colab.research.google.com/assets/colab-badge.svg\" alt=\"Open In Colab\"/></a>"
      ]
    },
    {
      "cell_type": "code",
      "execution_count": 4,
      "metadata": {
        "colab": {
          "base_uri": "https://localhost:8080/"
        },
        "id": "EuNF-cT3G1lb",
        "outputId": "89288576-ad8b-416b-f0a8-840d5285f84e"
      },
      "outputs": [
        {
          "output_type": "stream",
          "name": "stdout",
          "text": [
            "請輸入身高(cm)162\n",
            "請輸入體重(kg)48\n",
            "BMI = 18.3\n"
          ]
        }
      ],
      "source": [
        "height = int (input('請輸入身高(cm)'))\n",
        "weight = int (input('請輸入體重(kg)'))\n",
        "bmi = weight / (height / 100) **2\n",
        "print('BMI =',round(bmi,1))"
      ]
    }
  ]
}