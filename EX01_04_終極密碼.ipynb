{
  "nbformat": 4,
  "nbformat_minor": 0,
  "metadata": {
    "colab": {
      "provenance": [],
      "authorship_tag": "ABX9TyPOkzGTviSgTNmlylAEwKZB",
      "include_colab_link": true
    },
    "kernelspec": {
      "name": "python3",
      "display_name": "Python 3"
    },
    "language_info": {
      "name": "python"
    }
  },
  "cells": [
    {
      "cell_type": "markdown",
      "metadata": {
        "id": "view-in-github",
        "colab_type": "text"
      },
      "source": [
        "<a href=\"https://colab.research.google.com/github/Kros-2222/programclass/blob/main/EX01_04_%E7%B5%82%E6%A5%B5%E5%AF%86%E7%A2%BC.ipynb\" target=\"_parent\"><img src=\"https://colab.research.google.com/assets/colab-badge.svg\" alt=\"Open In Colab\"/></a>"
      ]
    },
    {
      "cell_type": "code",
      "execution_count": 10,
      "metadata": {
        "colab": {
          "base_uri": "https://localhost:8080/"
        },
        "id": "tolqgJFRtrp_",
        "outputId": "ed295cd5-58cc-4938-fd1a-3dffcda22bbb"
      },
      "outputs": [
        {
          "output_type": "stream",
          "name": "stdout",
          "text": [
            "範圍: 0~100之間\n",
            "猜密碼101\n",
            "超出範圍\n",
            "範圍: 0~100之間\n",
            "猜密碼100\n",
            "超出範圍\n",
            "範圍: 0~100之間\n",
            "猜密碼0\n",
            "超出範圍\n",
            "範圍: 0~100之間\n",
            "猜密碼50\n",
            "較小\n",
            "範圍: 50~100之間\n",
            "猜密碼75\n",
            "較小\n",
            "範圍: 75~100之間\n",
            "猜密碼85\n",
            "較大\n",
            "範圍: 75~85之間\n",
            "猜密碼80\n",
            "較小\n",
            "範圍: 80~85之間\n",
            "猜密碼82\n",
            "較小\n",
            "範圍: 82~85之間\n",
            "猜密碼84\n",
            "較大\n",
            "範圍: 82~84之間\n",
            "猜密碼83\n",
            "猜中\n"
          ]
        }
      ],
      "source": [
        "import random\n",
        "password = random.randint(1,99)\n",
        "a,b = 0,100\n",
        "while True:\n",
        "  print(f'範圍: {a}~{b}之間')\n",
        "  ans = int(input('猜密碼'))\n",
        "  if ans == password:\n",
        "    print('猜中')\n",
        "    break\n",
        "  elif ans <= a or ans >=b:\n",
        "    print('超出範圍')\n",
        "  else:\n",
        "    if ans < password:\n",
        "      a = ans\n",
        "      print('比答案小')\n",
        "    else:\n",
        "      b = ans\n",
        "      print('比答案大')"
      ]
    }
  ]
}